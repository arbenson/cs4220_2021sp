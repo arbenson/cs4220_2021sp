{
 "cells": [
  {
   "cell_type": "code",
   "execution_count": null,
   "metadata": {},
   "outputs": [],
   "source": [
    "using LinearAlgebra\n",
    "using Plots\n",
    "using Random"
   ]
  },
  {
   "cell_type": "code",
   "execution_count": null,
   "metadata": {},
   "outputs": [],
   "source": [
    "Random.seed!(1234)\n",
    "n = 10\n",
    "M = randn(n, n)\n",
    "U, Σ, Vt = svd(M)\n",
    "A = U * triu(randn(n, n)) * U';  # Schur form (all real)"
   ]
  },
  {
   "cell_type": "code",
   "execution_count": null,
   "metadata": {},
   "outputs": [],
   "source": [
    "max_iter = 100\n",
    "tol = 1e-13"
   ]
  },
  {
   "cell_type": "code",
   "execution_count": null,
   "metadata": {},
   "outputs": [],
   "source": [
    "T = A\n",
    "norms_no_shift = []\n",
    "for k = 1:max_iter\n",
    "    Q, R = qr(T)\n",
    "    T = R * Q\n",
    "    v = norm(vec(T[n, 1:n-1]))\n",
    "    @show k, v\n",
    "    push!(norms_no_shift, v)\n",
    "    if v < tol; break; end\n",
    "end "
   ]
  },
  {
   "cell_type": "code",
   "execution_count": null,
   "metadata": {},
   "outputs": [],
   "source": [
    "T = A\n",
    "norms_shift = []\n",
    "for k = 1:max_iter\n",
    "    μ = T[n, n]\n",
    "    Q, R = qr(T - μ * I)\n",
    "    T = R * Q + μ * I\n",
    "    v = norm(vec(T[n, 1:n-1]))\n",
    "    @show k, v\n",
    "    push!(norms_shift, v)\n",
    "    if v < tol; break; end\n",
    "end "
   ]
  },
  {
   "cell_type": "code",
   "execution_count": null,
   "metadata": {},
   "outputs": [],
   "source": [
    "plot!(norms_no_shift, label=\"no shift\", yscale=:log10)\n",
    "plot!(norms_shift, label=\"shift\", yscale=:log10)\n",
    "xlabel!(\"Number of iterations\")\n",
    "ylabel!(\"|| T(n, 1:n-1) ||\")"
   ]
  },
  {
   "cell_type": "code",
   "execution_count": null,
   "metadata": {},
   "outputs": [],
   "source": [
    "plot!(norms_no_shift, label=\"no shift\", yscale=:log10)\n",
    "plot!(norms_shift, label=\"shift\", yscale=:log10)\n",
    "xlabel!(\"Number of iterations\")\n",
    "ylabel!(\"|| T(n, 1:n-1) ||\")"
   ]
  },
  {
   "cell_type": "code",
   "execution_count": null,
   "metadata": {},
   "outputs": [],
   "source": []
  }
 ],
 "metadata": {
  "kernelspec": {
   "display_name": "Julia 1.5.1",
   "language": "julia",
   "name": "julia-1.5"
  },
  "language_info": {
   "file_extension": ".jl",
   "mimetype": "application/julia",
   "name": "julia",
   "version": "1.5.1"
  }
 },
 "nbformat": 4,
 "nbformat_minor": 4
}
