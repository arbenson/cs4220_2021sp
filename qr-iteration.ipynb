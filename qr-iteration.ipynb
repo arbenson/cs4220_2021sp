{
 "cells": [
  {
   "cell_type": "code",
   "execution_count": 6,
   "metadata": {},
   "outputs": [],
   "source": [
    "using LinearAlgebra\n",
    "using Random"
   ]
  },
  {
   "cell_type": "code",
   "execution_count": 10,
   "metadata": {},
   "outputs": [],
   "source": [
    "Random.seed!(1234)\n",
    "n = 20\n",
    "M = randn(n, n)\n",
    "U, Σ, Vt = svd(M)\n",
    "A = U * triu(randn(n, n)) * U';  # Schur form (all real)"
   ]
  },
  {
   "cell_type": "code",
   "execution_count": 11,
   "metadata": {},
   "outputs": [
    {
     "name": "stdout",
     "output_type": "stream",
     "text": [
      "norm(vec(T[n, 1:n - 1])) = 4.735251206668742e-7\n",
      "norm(vec(T[n, 1:n - 1])) = 0.0020926946232547343\n",
      "norm(vec(T[n, 1:n - 1])) = 0.002077343249892745\n",
      "norm(vec(T[n, 1:n - 1])) = 0.0018492524863383771\n",
      "norm(vec(T[n, 1:n - 1])) = 0.001577762862103953\n",
      "norm(vec(T[n, 1:n - 1])) = 0.0013270422047478934\n",
      "norm(vec(T[n, 1:n - 1])) = 0.0011087387156982053\n",
      "norm(vec(T[n, 1:n - 1])) = 0.0009238406907772309\n",
      "norm(vec(T[n, 1:n - 1])) = 0.0007692551554401592\n",
      "norm(vec(T[n, 1:n - 1])) = 0.0006409158665711451\n",
      "norm(vec(T[n, 1:n - 1])) = 0.0005347145554437501\n",
      "norm(vec(T[n, 1:n - 1])) = 0.00044691350484449066\n",
      "norm(vec(T[n, 1:n - 1])) = 0.000374274986097823\n",
      "norm(vec(T[n, 1:n - 1])) = 0.000314076122376944\n",
      "norm(vec(T[n, 1:n - 1])) = 0.0002640675206330649\n",
      "norm(vec(T[n, 1:n - 1])) = 0.00022241105804203867\n",
      "norm(vec(T[n, 1:n - 1])) = 0.00018761364673093464\n",
      "norm(vec(T[n, 1:n - 1])) = 0.00015846551920519196\n",
      "norm(vec(T[n, 1:n - 1])) = 0.00013398644297105564\n",
      "norm(vec(T[n, 1:n - 1])) = 0.00011338068477630854\n",
      "norm(vec(T[n, 1:n - 1])) = 9.60002282240576e-5\n"
     ]
    }
   ],
   "source": [
    "T = A\n",
    "for k = 0:20\n",
    "    Q, R = qr(T)\n",
    "    T = R * Q\n",
    "    @show norm(vec(T[n, 1:n-1]))\n",
    "end "
   ]
  },
  {
   "cell_type": "code",
   "execution_count": 12,
   "metadata": {},
   "outputs": [
    {
     "name": "stdout",
     "output_type": "stream",
     "text": [
      "norm(vec(T[n, 1:n - 1])) = 1.793525221971428e-10\n",
      "norm(vec(T[n, 1:n - 1])) = 0.0009713871644829377\n",
      "norm(vec(T[n, 1:n - 1])) = 0.00013257375896436892\n",
      "norm(vec(T[n, 1:n - 1])) = 6.636529984044891e-6\n",
      "norm(vec(T[n, 1:n - 1])) = 1.34995770775991e-8\n",
      "norm(vec(T[n, 1:n - 1])) = 6.29883776562582e-14\n",
      "norm(vec(T[n, 1:n - 1])) = 1.251856546440117e-24\n",
      "norm(vec(T[n, 1:n - 1])) = 5.08120568888331e-46\n",
      "norm(vec(T[n, 1:n - 1])) = 8.214188130070589e-89\n",
      "norm(vec(T[n, 1:n - 1])) = 2.1603518914376577e-174\n",
      "norm(vec(T[n, 1:n - 1])) = 0.0\n",
      "norm(vec(T[n, 1:n - 1])) = 0.0\n",
      "norm(vec(T[n, 1:n - 1])) = 0.0\n",
      "norm(vec(T[n, 1:n - 1])) = 0.0\n",
      "norm(vec(T[n, 1:n - 1])) = 0.0\n",
      "norm(vec(T[n, 1:n - 1])) = 0.0\n",
      "norm(vec(T[n, 1:n - 1])) = 0.0\n",
      "norm(vec(T[n, 1:n - 1])) = 0.0\n",
      "norm(vec(T[n, 1:n - 1])) = 0.0\n",
      "norm(vec(T[n, 1:n - 1])) = 0.0\n",
      "norm(vec(T[n, 1:n - 1])) = 0.0\n"
     ]
    }
   ],
   "source": [
    "T = A\n",
    "for k = 0:20\n",
    "    μ = T[n, n]\n",
    "    Q, R = qr(T - μ * I)\n",
    "    T = R * Q + μ * I\n",
    "    @show norm(vec(T[n, 1:n-1]))\n",
    "end "
   ]
  },
  {
   "cell_type": "code",
   "execution_count": null,
   "metadata": {},
   "outputs": [],
   "source": []
  }
 ],
 "metadata": {
  "kernelspec": {
   "display_name": "Julia 1.5.1",
   "language": "julia",
   "name": "julia-1.5"
  },
  "language_info": {
   "file_extension": ".jl",
   "mimetype": "application/julia",
   "name": "julia",
   "version": "1.5.1"
  }
 },
 "nbformat": 4,
 "nbformat_minor": 4
}
