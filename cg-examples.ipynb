{
 "cells": [
  {
   "cell_type": "code",
   "execution_count": 1,
   "metadata": {},
   "outputs": [],
   "source": [
    "using IterativeSolvers\n",
    "using LinearAlgebra\n",
    "using LinearMaps\n",
    "using SparseArrays"
   ]
  },
  {
   "cell_type": "code",
   "execution_count": 2,
   "metadata": {},
   "outputs": [
    {
     "data": {
      "text/plain": [
       "read_mat (generic function with 1 method)"
      ]
     },
     "execution_count": 2,
     "metadata": {},
     "output_type": "execute_result"
    }
   ],
   "source": [
    "function read_mat()\n",
    "    Is = Int64[]\n",
    "    Js = Int64[]\n",
    "    # data downloaded from http://snap.stanford.edu/data/enwiki-2013.html\n",
    "    open(\"enwiki-2013.txt\") do f\n",
    "        for line in eachline(f)\n",
    "            if line[1] == '#'; continue; end # skip lines starting with #\n",
    "            i, j = split(line)\n",
    "            # note 0 --> 1 indexing\n",
    "            push!(Is, parse(Int64, i) + 1)\n",
    "            push!(Js, parse(Int64, j) + 1)\n",
    "        end\n",
    "    end\n",
    "    n = max(maximum(Is), maximum(Js))\n",
    "    A = sparse(Is, Js, 1, n, n)\n",
    "    A = min.(A, 1)\n",
    "    A = max.(A, A')  # symmetrize\n",
    "    d = vec(sum(A, dims=1))\n",
    "    # Skip unused indices\n",
    "    keep = d .> 0\n",
    "    return A[keep, keep]\n",
    "end"
   ]
  },
  {
   "cell_type": "code",
   "execution_count": 3,
   "metadata": {},
   "outputs": [
    {
     "name": "stdout",
     "output_type": "stream",
     "text": [
      " 69.081940 seconds (405.49 M allocations: 35.578 GiB, 4.64% gc time)\n",
      "  1.247815 seconds (216.46 k allocations: 75.669 MiB, 32.09% gc time)\n"
     ]
    }
   ],
   "source": [
    "@time A = read_mat()  # takes about one minute\n",
    "@time A * randn(size(A,1))  # takes about a second\n",
    ";"
   ]
  },
  {
   "cell_type": "code",
   "execution_count": 4,
   "metadata": {},
   "outputs": [
    {
     "name": "stdout",
     "output_type": "stream",
     "text": [
      "norm(L * x - b) / norm(b) = 441.7198599247834\n",
      "norm(L * x - b) / norm(b) = 163.96819375433833\n"
     ]
    }
   ],
   "source": [
    "d = vec(sum(A, dims=1))\n",
    "D = Diagonal(d)\n",
    "L = Float64.(D - A)  # Graph Laplacian\n",
    "n = size(L, 1)\n",
    "b = randn(n)  # right-hand-side\n",
    "x = randn(n)  # starting guess\n",
    "@show norm(L * x - b) / norm(b)  # starting relative error\n",
    "cg!(x, L, b, maxiter=20)\n",
    "@show norm(L * x - b) / norm(b)  # relative error after some CG steps\n",
    ";"
   ]
  },
  {
   "cell_type": "code",
   "execution_count": 5,
   "metadata": {},
   "outputs": [
    {
     "name": "stdout",
     "output_type": "stream",
     "text": [
      "norm(L_plus_vvt * x - b) / norm(b) = 168.36768330320803\n",
      "norm(L_plus_vvt * x - b) / norm(b) = 133.7621181612782\n"
     ]
    },
    {
     "data": {
      "text/plain": [
       "133.7621181612782"
      ]
     },
     "execution_count": 5,
     "metadata": {},
     "output_type": "execute_result"
    }
   ],
   "source": [
    "v = randn(n)\n",
    "# (L + vv^T) * x\n",
    "L_plus_vvt = LinearMap(x -> L * x .+ v .* (v' * x), n, \n",
    "                       issymmetric=true, ismutating=false)\n",
    "@show norm(L_plus_vvt * x - b) / norm(b)\n",
    "cg!(x, L_plus_vvt, b, maxiter=20)\n",
    "@show norm(L_plus_vvt * x - b) / norm(b)"
   ]
  },
  {
   "cell_type": "code",
   "execution_count": null,
   "metadata": {},
   "outputs": [],
   "source": []
  }
 ],
 "metadata": {
  "kernelspec": {
   "display_name": "Julia 1.5.1",
   "language": "julia",
   "name": "julia-1.5"
  },
  "language_info": {
   "file_extension": ".jl",
   "mimetype": "application/julia",
   "name": "julia",
   "version": "1.5.1"
  }
 },
 "nbformat": 4,
 "nbformat_minor": 4
}
