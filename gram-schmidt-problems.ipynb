{
 "cells": [
  {
   "cell_type": "code",
   "execution_count": 1,
   "metadata": {},
   "outputs": [],
   "source": [
    "using LinearAlgebra"
   ]
  },
  {
   "cell_type": "code",
   "execution_count": 2,
   "metadata": {},
   "outputs": [
    {
     "data": {
      "text/plain": [
       "9.999958399442839e11"
      ]
     },
     "execution_count": 2,
     "metadata": {},
     "output_type": "execute_result"
    }
   ],
   "source": [
    "m = 1000\n",
    "n = 100\n",
    "A = randn(m, n)\n",
    "U, Σ, Vt = svd(A)\n",
    "Σ = Diagonal(range(1, 1e12, length=n))  # ill-conditioned\n",
    "A = U * Σ * Vt\n",
    "cond(A)"
   ]
  },
  {
   "cell_type": "code",
   "execution_count": 3,
   "metadata": {},
   "outputs": [],
   "source": [
    "# Gram-Schmidt QR\n",
    "Q = zeros(m, n)\n",
    "R = zeros(n, n)\n",
    "for j = 1:n\n",
    "    vj = A[:, j]\n",
    "    for i = 1:(j - 1)\n",
    "        qi = Q[:, i]\n",
    "        R[i, j] = qi' * A[:, j]\n",
    "        vj .-= R[i, j] * qi\n",
    "    end\n",
    "    R[j, j] = norm(vj, 2)\n",
    "    Q[:, j] = vj / R[j, j]\n",
    "end"
   ]
  },
  {
   "cell_type": "code",
   "execution_count": 4,
   "metadata": {},
   "outputs": [
    {
     "data": {
      "text/plain": [
       "0.0006865884103339708"
      ]
     },
     "execution_count": 4,
     "metadata": {},
     "output_type": "execute_result"
    }
   ],
   "source": [
    "norm(Q' * Q - I)"
   ]
  },
  {
   "cell_type": "code",
   "execution_count": 5,
   "metadata": {},
   "outputs": [
    {
     "data": {
      "text/plain": [
       "1000×100 Array{Float64,2}:\n",
       " -0.0741247   -0.00400025   0.00719821  …  -0.0274209    -0.0244177\n",
       " -0.0278727   -0.00585182  -0.023657        0.000716641   0.0135865\n",
       " -0.00258536  -0.0221377   -0.0233297      -0.000528496  -0.0364914\n",
       " -0.00382035  -0.0220714   -0.0012775      -0.0349145     0.0250367\n",
       " -0.00375963  -0.0134412   -0.00818971     -0.0129572    -0.0206697\n",
       "  0.00729109  -0.0473219    0.0126598   …  -0.0570075     0.0594993\n",
       "  0.0145772   -0.0117709    0.0279895       0.00136654   -0.0427399\n",
       " -0.0281363   -0.0295993   -0.00760813     -0.0289379    -0.0426791\n",
       "  0.020607    -0.0253047    0.0591084      -0.0355135     0.0199092\n",
       " -0.0342916    0.00718258  -0.0236878       0.00577536   -0.00970016\n",
       " -0.0388616   -0.0565111   -0.0187378   …   0.0440271    -0.00149057\n",
       "  0.0364335   -0.0331762   -0.0187676      -0.0396963    -0.00864387\n",
       "  0.00426916  -0.0329176    0.0123318      -0.0338266    -0.026689\n",
       "  ⋮                                     ⋱                \n",
       " -0.0510245    0.0443445    0.0217834       0.0271335    -0.0350566\n",
       " -0.0474213    0.0289384   -0.0371604       0.00368195   -0.0290263\n",
       "  0.00935751  -0.0185929    0.0399083   …  -0.00593911    0.0461371\n",
       "  0.0300988   -0.0128635   -0.00225144     -0.00209135   -0.015841\n",
       " -0.0248856   -0.0154754    0.0241275      -0.00282392   -0.0135766\n",
       "  0.0169726    0.0231747   -0.0484237      -0.0976837    -0.00895276\n",
       "  0.0090335    0.0723977    0.00107217     -0.0215307     0.0307615\n",
       " -0.0180594    0.0431639    0.0378873   …   0.0131443    -0.0521253\n",
       " -0.00129903  -0.0235634   -0.0144586       0.0054497     0.0186508\n",
       "  0.0512868   -0.0109082   -0.0270555      -0.0221814    -0.0296739\n",
       "  0.0469892    0.00179723   0.0285252      -0.0443017     0.0105772\n",
       "  0.0144659   -0.005775     7.65556e-5      0.0198834     0.0269286"
      ]
     },
     "execution_count": 5,
     "metadata": {},
     "output_type": "execute_result"
    }
   ],
   "source": [
    "# library qr\n",
    "A_QR = qr(A)\n",
    "Q = Array(A_QR.Q);"
   ]
  },
  {
   "cell_type": "code",
   "execution_count": 6,
   "metadata": {},
   "outputs": [
    {
     "data": {
      "text/plain": [
       "4.621788285273212e-15"
      ]
     },
     "execution_count": 6,
     "metadata": {},
     "output_type": "execute_result"
    }
   ],
   "source": [
    "norm(Q' * Q - I)"
   ]
  },
  {
   "cell_type": "code",
   "execution_count": null,
   "metadata": {},
   "outputs": [],
   "source": []
  }
 ],
 "metadata": {
  "kernelspec": {
   "display_name": "Julia 1.5.1",
   "language": "julia",
   "name": "julia-1.5"
  },
  "language_info": {
   "file_extension": ".jl",
   "mimetype": "application/julia",
   "name": "julia",
   "version": "1.5.1"
  }
 },
 "nbformat": 4,
 "nbformat_minor": 4
}
