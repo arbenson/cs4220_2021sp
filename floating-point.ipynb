{
 "cells": [
  {
   "cell_type": "code",
   "execution_count": 1,
   "metadata": {},
   "outputs": [
    {
     "data": {
      "text/plain": [
       "split_bits (generic function with 1 method)"
      ]
     },
     "execution_count": 1,
     "metadata": {},
     "output_type": "execute_result"
    }
   ],
   "source": [
    "# Get components of floating point representation\n",
    "function split_bits(fp_num::Float64)\n",
    "    b = bitstring(fp_num)\n",
    "    return (b[1],     # sign\n",
    "            b[2:12],  # exponent \n",
    "            b[13:end] # fraction\n",
    "            )\n",
    "end\n",
    "\n",
    "# See IEEE 754 standard: https://en.wikipedia.org/wiki/IEEE_754"
   ]
  },
  {
   "cell_type": "code",
   "execution_count": 2,
   "metadata": {},
   "outputs": [
    {
     "data": {
      "text/plain": [
       "1.9999999999999998"
      ]
     },
     "execution_count": 2,
     "metadata": {},
     "output_type": "execute_result"
    }
   ],
   "source": [
    "x = 1.0 + sum([2.0^(-i) for i = 1:52])"
   ]
  },
  {
   "cell_type": "code",
   "execution_count": 3,
   "metadata": {},
   "outputs": [
    {
     "data": {
      "text/plain": [
       "('0', \"01111111111\", \"1111111111111111111111111111111111111111111111111111\")"
      ]
     },
     "execution_count": 3,
     "metadata": {},
     "output_type": "execute_result"
    }
   ],
   "source": [
    "split_bits(x)  # e = 2^10 - 1 -->  = e - 1023 = 0"
   ]
  },
  {
   "cell_type": "code",
   "execution_count": 4,
   "metadata": {},
   "outputs": [
    {
     "data": {
      "text/plain": [
       "('1', \"01111111111\", \"1111111111111111111111111111111111111111111111111111\")"
      ]
     },
     "execution_count": 4,
     "metadata": {},
     "output_type": "execute_result"
    }
   ],
   "source": [
    "split_bits(-x)"
   ]
  },
  {
   "cell_type": "code",
   "execution_count": 5,
   "metadata": {},
   "outputs": [
    {
     "data": {
      "text/plain": [
       "(2.0, ('0', \"10000000000\", \"0000000000000000000000000000000000000000000000000000\"))"
      ]
     },
     "execution_count": 5,
     "metadata": {},
     "output_type": "execute_result"
    }
   ],
   "source": [
    "nextfloat(x), split_bits(nextfloat(x))"
   ]
  },
  {
   "cell_type": "code",
   "execution_count": 6,
   "metadata": {},
   "outputs": [
    {
     "data": {
      "text/plain": [
       "(5.960464477539063e-8, 3.3881317890172014e-21)"
      ]
     },
     "execution_count": 6,
     "metadata": {},
     "output_type": "execute_result"
    }
   ],
   "source": [
    "a0 = 4.1564 * 10^8\n",
    "a1 = nextfloat(a0)\n",
    "\n",
    "b0 = 2.1234 * 10^-5\n",
    "b1 = nextfloat(b0)\n",
    "\n",
    "# absolute difference\n",
    "abs(a0 - a1), abs(b0 - b1)"
   ]
  },
  {
   "cell_type": "code",
   "execution_count": 7,
   "metadata": {},
   "outputs": [
    {
     "data": {
      "text/plain": [
       "(1.4340449613942507e-16, 1.5956163648004145e-16, 2.220446049250313e-16)"
      ]
     },
     "execution_count": 7,
     "metadata": {},
     "output_type": "execute_result"
    }
   ],
   "source": [
    "# relative difference\n",
    "abs(a0 - a1) / abs(a0), abs(b0 - b1) / abs(b0), eps(Float64)"
   ]
  },
  {
   "cell_type": "code",
   "execution_count": 8,
   "metadata": {},
   "outputs": [
    {
     "data": {
      "text/plain": [
       "(-3.571206510415053e7, -1.862645149230957e-8)"
      ]
     },
     "execution_count": 8,
     "metadata": {},
     "output_type": "execute_result"
    }
   ],
   "source": [
    "# catastrophic cancellation\n",
    "a = 1.0\n",
    "b = rand() / sqrt(eps(Float64))\n",
    "c = rand()\n",
    "v = sqrt(b^2 - 4c)\n",
    "(-b - v) / 2, (-b + v) / 2"
   ]
  },
  {
   "cell_type": "code",
   "execution_count": 9,
   "metadata": {},
   "outputs": [
    {
     "data": {
      "text/plain": [
       "2-element Array{Complex{Float64},1}:\n",
       "   -3.571206510415053e7 + 0.0im\n",
       " -1.9028047175888034e-8 + 0.0im"
      ]
     },
     "execution_count": 9,
     "metadata": {},
     "output_type": "execute_result"
    }
   ],
   "source": [
    "using Polynomials\n",
    "using FastPolynomialRoots\n",
    "FastPolynomialRoots.roots(Polynomial([c, b, a]))"
   ]
  },
  {
   "cell_type": "code",
   "execution_count": null,
   "metadata": {},
   "outputs": [],
   "source": []
  }
 ],
 "metadata": {
  "@webio": {
   "lastCommId": null,
   "lastKernelId": null
  },
  "kernelspec": {
   "display_name": "Julia 1.5.1",
   "language": "julia",
   "name": "julia-1.5"
  },
  "language_info": {
   "file_extension": ".jl",
   "mimetype": "application/julia",
   "name": "julia",
   "version": "1.5.1"
  }
 },
 "nbformat": 4,
 "nbformat_minor": 2
}
